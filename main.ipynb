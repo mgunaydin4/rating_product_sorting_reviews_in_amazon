{
 "cells": [
  {
   "cell_type": "markdown",
   "source": [
    "# PROJE: Rating Product & Sorting Reviews in Amazon"
   ],
   "metadata": {
    "collapsed": false
   },
   "id": "3add7e11e95e4bc1"
  },
  {
   "cell_type": "markdown",
   "source": [
    "## İş Problemi\n",
    "\n",
    "E-ticaretteki en önemli problemlerden bir tanesi ürünlere satış sonrası verilen puanların doğru şekilde hesaplanmasıdır. Bu problemin çözümü e-ticaret sitesi için daha fazla müşteri memnuniyeti sağlamak, satıcılar için ürünün öne çıkması ve satın alanlar için sorunsuz bir alışveriş deneyimi demektir. Bir diğer problem ise ürünlere verilen yorumların doğru bir şekilde sıralanması olarak karşımıza çıkmaktadır. Yanıltıcı yorumların öne çıkması ürünün satışını doğrudan etkileyeceğinden dolayı hem maddi kayıp hem de müşteri kaybına neden olacaktır. Bu 2 temel problemin çözümünde e-ticaret sitesi ve satıcılar satışlarını arttırırken müşteriler ise satın alma yolculuğunu sorunsuz olarak tamamlayacaktır.\n"
   ],
   "metadata": {
    "collapsed": false
   },
   "id": "c08f36c6907277f3"
  },
  {
   "cell_type": "markdown",
   "source": [
    "## Veri Seti Hikayesi"
   ],
   "metadata": {
    "collapsed": false
   },
   "id": "fb6939ef89de6351"
  },
  {
   "cell_type": "markdown",
   "source": [
    "Amazon ürün verilerini içeren bu veri seti ürün kategorileri ile çeşitli metadataları içermektedir. Elektronik kategorisindeki en fazla yorum alan ürünün kullanıcı puanları ve yorumları vardır."
   ],
   "metadata": {
    "collapsed": false
   },
   "id": "1f0fef99f2012604"
  },
  {
   "cell_type": "markdown",
   "source": [
    "## Değişkenler:\n",
    "**reviewerID:** Kullanıcı ID’si\n",
    "**asin:** Ürün ID’si\n",
    "**reviewerName:** Kullanıcı Adı\n",
    "**helpful:** Faydalı değerlendirme derecesi\n",
    "**reviewText:** Değerlendirme\n",
    "**overall:** Ürün rating’i\n",
    "**summary:** Değerlendirme özeti\n",
    "**unixReviewTime:** Değerlendirme zamanı\n",
    "**reviewTime:** Değerlendirme zamanı Raw\n",
    "**day_diff:** Değerlendirmeden itibaren geçen gün sayısı\n",
    "**helpful_yes:** Değerlendirmenin faydalı bulunma sayısı\n",
    "**total_vote:** Değerlendirmeye verilen oy sayısı"
   ],
   "metadata": {
    "collapsed": false
   },
   "id": "9349df3295cc93b8"
  },
  {
   "cell_type": "markdown",
   "source": [
    "**GÖREV 1: Average Rating'i Güncel Yorumlara Göre Hesaplayınız ve Var Olan Average Rating ile Kıyaslayınız.**"
   ],
   "metadata": {
    "collapsed": false
   },
   "id": "2e1be62fb4908442"
  },
  {
   "cell_type": "markdown",
   "source": [
    "Paylaşılan veri setinde kullanıcılar bir ürüne puanlar vermiş ve yorumlar yapmıştır.\n",
    "Bu görevde amacımız verilen puanları tarihe göre ağırlıklandırarak değerlendirmek. İlk ortalama puan ile elde edilecek tarihe göre ağırlıklı puanın karşılaştırılması gerekmektedir."
   ],
   "metadata": {
    "collapsed": false
   },
   "id": "cd09bc3f0ee56c5"
  },
  {
   "cell_type": "code",
   "outputs": [
    {
     "data": {
      "text/plain": "       reviewerID        asin  reviewerName helpful                                         reviewText  overall                                 summary  unixReviewTime  reviewTime  day_diff  helpful_yes  total_vote\n0  A3SBTW3WS4IQSN  B007WTAJTO           NaN  [0, 0]                                         No issues.  4.00000                              Four Stars      1406073600  2014-07-23       138            0           0\n1  A18K1ODH1I2MVB  B007WTAJTO          0mie  [0, 0]  Purchased this for my device, it worked as adv...  5.00000                           MOAR SPACE!!!      1382659200  2013-10-25       409            0           0\n2  A2FII3I2MBMUIA  B007WTAJTO           1K3  [0, 0]  it works as expected. I should have sprung for...  4.00000               nothing to really say....      1356220800  2012-12-23       715            0           0\n3   A3H99DFEG68SR  B007WTAJTO           1m2  [0, 0]  This think has worked out great.Had a diff. br...  5.00000  Great buy at this price!!!  *** UPDATE      1384992000  2013-11-21       382            0           0\n4  A375ZM4U047O79  B007WTAJTO  2&amp;1/2Men  [0, 0]  Bought it with Retail Packaging, arrived legit...  5.00000                        best deal around      1373673600  2013-07-13       513            0           0",
      "text/html": "<div>\n<style scoped>\n    .dataframe tbody tr th:only-of-type {\n        vertical-align: middle;\n    }\n\n    .dataframe tbody tr th {\n        vertical-align: top;\n    }\n\n    .dataframe thead th {\n        text-align: right;\n    }\n</style>\n<table border=\"1\" class=\"dataframe\">\n  <thead>\n    <tr style=\"text-align: right;\">\n      <th></th>\n      <th>reviewerID</th>\n      <th>asin</th>\n      <th>reviewerName</th>\n      <th>helpful</th>\n      <th>reviewText</th>\n      <th>overall</th>\n      <th>summary</th>\n      <th>unixReviewTime</th>\n      <th>reviewTime</th>\n      <th>day_diff</th>\n      <th>helpful_yes</th>\n      <th>total_vote</th>\n    </tr>\n  </thead>\n  <tbody>\n    <tr>\n      <th>0</th>\n      <td>A3SBTW3WS4IQSN</td>\n      <td>B007WTAJTO</td>\n      <td>NaN</td>\n      <td>[0, 0]</td>\n      <td>No issues.</td>\n      <td>4.00000</td>\n      <td>Four Stars</td>\n      <td>1406073600</td>\n      <td>2014-07-23</td>\n      <td>138</td>\n      <td>0</td>\n      <td>0</td>\n    </tr>\n    <tr>\n      <th>1</th>\n      <td>A18K1ODH1I2MVB</td>\n      <td>B007WTAJTO</td>\n      <td>0mie</td>\n      <td>[0, 0]</td>\n      <td>Purchased this for my device, it worked as adv...</td>\n      <td>5.00000</td>\n      <td>MOAR SPACE!!!</td>\n      <td>1382659200</td>\n      <td>2013-10-25</td>\n      <td>409</td>\n      <td>0</td>\n      <td>0</td>\n    </tr>\n    <tr>\n      <th>2</th>\n      <td>A2FII3I2MBMUIA</td>\n      <td>B007WTAJTO</td>\n      <td>1K3</td>\n      <td>[0, 0]</td>\n      <td>it works as expected. I should have sprung for...</td>\n      <td>4.00000</td>\n      <td>nothing to really say....</td>\n      <td>1356220800</td>\n      <td>2012-12-23</td>\n      <td>715</td>\n      <td>0</td>\n      <td>0</td>\n    </tr>\n    <tr>\n      <th>3</th>\n      <td>A3H99DFEG68SR</td>\n      <td>B007WTAJTO</td>\n      <td>1m2</td>\n      <td>[0, 0]</td>\n      <td>This think has worked out great.Had a diff. br...</td>\n      <td>5.00000</td>\n      <td>Great buy at this price!!!  *** UPDATE</td>\n      <td>1384992000</td>\n      <td>2013-11-21</td>\n      <td>382</td>\n      <td>0</td>\n      <td>0</td>\n    </tr>\n    <tr>\n      <th>4</th>\n      <td>A375ZM4U047O79</td>\n      <td>B007WTAJTO</td>\n      <td>2&amp;amp;1/2Men</td>\n      <td>[0, 0]</td>\n      <td>Bought it with Retail Packaging, arrived legit...</td>\n      <td>5.00000</td>\n      <td>best deal around</td>\n      <td>1373673600</td>\n      <td>2013-07-13</td>\n      <td>513</td>\n      <td>0</td>\n      <td>0</td>\n    </tr>\n  </tbody>\n</table>\n</div>"
     },
     "execution_count": 3,
     "metadata": {},
     "output_type": "execute_result"
    }
   ],
   "source": [
    "# Adım 1: Veri Setini Okutunuz ve Ürünün Ortalama Puanını Hesaplayınız.\n",
    "\n",
    "import pandas as pd\n",
    "import numpy as np\n",
    "import math\n",
    "import scipy.stats as st\n",
    "\n",
    "pd.set_option(\"display.max_columns\", None)\n",
    "pd.set_option(\"display.expand_frame_repr\", False)\n",
    "pd.set_option(\"display.float_format\", lambda x: \"%.5f\" % x)\n",
    "\n",
    "df_ = pd.read_csv(\"amazon_review.csv\")\n",
    "df = df_.copy()\n",
    "df.head()"
   ],
   "metadata": {
    "collapsed": false,
    "ExecuteTime": {
     "end_time": "2024-09-17T19:46:59.608868Z",
     "start_time": "2024-09-17T19:46:59.581087Z"
    }
   },
   "id": "9eb66db6f9a8aaf0",
   "execution_count": 3
  },
  {
   "cell_type": "code",
   "outputs": [
    {
     "data": {
      "text/plain": "4.587589013224822"
     },
     "execution_count": 4,
     "metadata": {},
     "output_type": "execute_result"
    }
   ],
   "source": [
    "df[\"overall\"].mean()"
   ],
   "metadata": {
    "collapsed": false,
    "ExecuteTime": {
     "end_time": "2024-09-17T19:47:22.247977Z",
     "start_time": "2024-09-17T19:47:22.244174Z"
    }
   },
   "id": "8447cd3b1249d40b",
   "execution_count": 4
  },
  {
   "cell_type": "code",
   "outputs": [
    {
     "data": {
      "text/plain": "         overall   unixReviewTime   day_diff  helpful_yes  total_vote\ncount 4915.00000       4915.00000 4915.00000   4915.00000  4915.00000\nmean     4.58759 1379465001.66836  437.36704      1.31109     1.52146\nstd      0.99685   15818574.32275  209.43987     41.61916    44.12309\nmin      1.00000 1339200000.00000    1.00000      0.00000     0.00000\n25%      5.00000 1365897600.00000  281.00000      0.00000     0.00000\n50%      5.00000 1381276800.00000  431.00000      0.00000     0.00000\n75%      5.00000 1392163200.00000  601.00000      0.00000     0.00000\nmax      5.00000 1406073600.00000 1064.00000   1952.00000  2020.00000",
      "text/html": "<div>\n<style scoped>\n    .dataframe tbody tr th:only-of-type {\n        vertical-align: middle;\n    }\n\n    .dataframe tbody tr th {\n        vertical-align: top;\n    }\n\n    .dataframe thead th {\n        text-align: right;\n    }\n</style>\n<table border=\"1\" class=\"dataframe\">\n  <thead>\n    <tr style=\"text-align: right;\">\n      <th></th>\n      <th>overall</th>\n      <th>unixReviewTime</th>\n      <th>day_diff</th>\n      <th>helpful_yes</th>\n      <th>total_vote</th>\n    </tr>\n  </thead>\n  <tbody>\n    <tr>\n      <th>count</th>\n      <td>4915.00000</td>\n      <td>4915.00000</td>\n      <td>4915.00000</td>\n      <td>4915.00000</td>\n      <td>4915.00000</td>\n    </tr>\n    <tr>\n      <th>mean</th>\n      <td>4.58759</td>\n      <td>1379465001.66836</td>\n      <td>437.36704</td>\n      <td>1.31109</td>\n      <td>1.52146</td>\n    </tr>\n    <tr>\n      <th>std</th>\n      <td>0.99685</td>\n      <td>15818574.32275</td>\n      <td>209.43987</td>\n      <td>41.61916</td>\n      <td>44.12309</td>\n    </tr>\n    <tr>\n      <th>min</th>\n      <td>1.00000</td>\n      <td>1339200000.00000</td>\n      <td>1.00000</td>\n      <td>0.00000</td>\n      <td>0.00000</td>\n    </tr>\n    <tr>\n      <th>25%</th>\n      <td>5.00000</td>\n      <td>1365897600.00000</td>\n      <td>281.00000</td>\n      <td>0.00000</td>\n      <td>0.00000</td>\n    </tr>\n    <tr>\n      <th>50%</th>\n      <td>5.00000</td>\n      <td>1381276800.00000</td>\n      <td>431.00000</td>\n      <td>0.00000</td>\n      <td>0.00000</td>\n    </tr>\n    <tr>\n      <th>75%</th>\n      <td>5.00000</td>\n      <td>1392163200.00000</td>\n      <td>601.00000</td>\n      <td>0.00000</td>\n      <td>0.00000</td>\n    </tr>\n    <tr>\n      <th>max</th>\n      <td>5.00000</td>\n      <td>1406073600.00000</td>\n      <td>1064.00000</td>\n      <td>1952.00000</td>\n      <td>2020.00000</td>\n    </tr>\n  </tbody>\n</table>\n</div>"
     },
     "execution_count": 6,
     "metadata": {},
     "output_type": "execute_result"
    }
   ],
   "source": [
    "# Adım 2: Tarihe Göre Ağırlıklı Puan Ortalamasını Hesaplayınız.(Quantile değerlerine göre tarihler ayrılacaktır)\n",
    "df.describe()"
   ],
   "metadata": {
    "collapsed": false,
    "ExecuteTime": {
     "end_time": "2024-09-17T19:48:10.213595Z",
     "start_time": "2024-09-17T19:48:10.205547Z"
    }
   },
   "id": "4390352514305a18",
   "execution_count": 6
  },
  {
   "cell_type": "code",
   "outputs": [
    {
     "data": {
      "text/plain": "4.604856141424037"
     },
     "execution_count": 7,
     "metadata": {},
     "output_type": "execute_result"
    }
   ],
   "source": [
    "def time_based_weighted_average(dataframe, w1=28, w2=26, w3=24, w4=22):\n",
    "    return dataframe.loc[dataframe[\"day_diff\"] <= 281, \"overall\"].mean() * w1/100 + \\\n",
    "    dataframe.loc[(dataframe[\"day_diff\"] > 281) & (dataframe[\"day_diff\"] <= 431), \"overall\"].mean() * w2/100 + \\\n",
    "    dataframe.loc[(dataframe[\"day_diff\"] > 431) & (dataframe[\"day_diff\"] <= 601), \"overall\"].mean() * w3/100 + \\\n",
    "    dataframe.loc[dataframe[\"day_diff\"] > 601, \"overall\"].mean() * w4/100\n",
    "\n",
    "time_based_weighted_average(df, w1=35, w2=23, w3=22, w4=20)"
   ],
   "metadata": {
    "collapsed": false,
    "ExecuteTime": {
     "end_time": "2024-09-17T19:48:30.315285Z",
     "start_time": "2024-09-17T19:48:30.307646Z"
    }
   },
   "id": "1f8b5b6d8a8786ea",
   "execution_count": 7
  },
  {
   "cell_type": "code",
   "outputs": [
    {
     "data": {
      "text/plain": "reviewerID        0\nasin              0\nreviewerName      1\nhelpful           0\nreviewText        1\noverall           0\nsummary           0\nunixReviewTime    0\nreviewTime        0\nday_diff          0\nhelpful_yes       0\ntotal_vote        0\ndtype: int64"
     },
     "execution_count": 8,
     "metadata": {},
     "output_type": "execute_result"
    }
   ],
   "source": [
    "# Görev 2: Ürün için Ürün Detay Sayfasında Görüntülenecek 20 Review'i Belirleyiniz.\n",
    "df.isnull().sum()\n"
   ],
   "metadata": {
    "collapsed": false,
    "ExecuteTime": {
     "end_time": "2024-09-17T19:48:50.713531Z",
     "start_time": "2024-09-17T19:48:50.705880Z"
    }
   },
   "id": "b04014853e0e6ce6",
   "execution_count": 8
  },
  {
   "cell_type": "code",
   "outputs": [
    {
     "data": {
      "text/plain": "       reviewerID        asin  reviewerName helpful                                         reviewText  overall                                 summary  unixReviewTime  reviewTime  day_diff  helpful_yes  total_vote  helpful_no\n0  A3SBTW3WS4IQSN  B007WTAJTO           NaN  [0, 0]                                         No issues.  4.00000                              Four Stars      1406073600  2014-07-23       138            0           0           0\n1  A18K1ODH1I2MVB  B007WTAJTO          0mie  [0, 0]  Purchased this for my device, it worked as adv...  5.00000                           MOAR SPACE!!!      1382659200  2013-10-25       409            0           0           0\n2  A2FII3I2MBMUIA  B007WTAJTO           1K3  [0, 0]  it works as expected. I should have sprung for...  4.00000               nothing to really say....      1356220800  2012-12-23       715            0           0           0\n3   A3H99DFEG68SR  B007WTAJTO           1m2  [0, 0]  This think has worked out great.Had a diff. br...  5.00000  Great buy at this price!!!  *** UPDATE      1384992000  2013-11-21       382            0           0           0\n4  A375ZM4U047O79  B007WTAJTO  2&amp;1/2Men  [0, 0]  Bought it with Retail Packaging, arrived legit...  5.00000                        best deal around      1373673600  2013-07-13       513            0           0           0",
      "text/html": "<div>\n<style scoped>\n    .dataframe tbody tr th:only-of-type {\n        vertical-align: middle;\n    }\n\n    .dataframe tbody tr th {\n        vertical-align: top;\n    }\n\n    .dataframe thead th {\n        text-align: right;\n    }\n</style>\n<table border=\"1\" class=\"dataframe\">\n  <thead>\n    <tr style=\"text-align: right;\">\n      <th></th>\n      <th>reviewerID</th>\n      <th>asin</th>\n      <th>reviewerName</th>\n      <th>helpful</th>\n      <th>reviewText</th>\n      <th>overall</th>\n      <th>summary</th>\n      <th>unixReviewTime</th>\n      <th>reviewTime</th>\n      <th>day_diff</th>\n      <th>helpful_yes</th>\n      <th>total_vote</th>\n      <th>helpful_no</th>\n    </tr>\n  </thead>\n  <tbody>\n    <tr>\n      <th>0</th>\n      <td>A3SBTW3WS4IQSN</td>\n      <td>B007WTAJTO</td>\n      <td>NaN</td>\n      <td>[0, 0]</td>\n      <td>No issues.</td>\n      <td>4.00000</td>\n      <td>Four Stars</td>\n      <td>1406073600</td>\n      <td>2014-07-23</td>\n      <td>138</td>\n      <td>0</td>\n      <td>0</td>\n      <td>0</td>\n    </tr>\n    <tr>\n      <th>1</th>\n      <td>A18K1ODH1I2MVB</td>\n      <td>B007WTAJTO</td>\n      <td>0mie</td>\n      <td>[0, 0]</td>\n      <td>Purchased this for my device, it worked as adv...</td>\n      <td>5.00000</td>\n      <td>MOAR SPACE!!!</td>\n      <td>1382659200</td>\n      <td>2013-10-25</td>\n      <td>409</td>\n      <td>0</td>\n      <td>0</td>\n      <td>0</td>\n    </tr>\n    <tr>\n      <th>2</th>\n      <td>A2FII3I2MBMUIA</td>\n      <td>B007WTAJTO</td>\n      <td>1K3</td>\n      <td>[0, 0]</td>\n      <td>it works as expected. I should have sprung for...</td>\n      <td>4.00000</td>\n      <td>nothing to really say....</td>\n      <td>1356220800</td>\n      <td>2012-12-23</td>\n      <td>715</td>\n      <td>0</td>\n      <td>0</td>\n      <td>0</td>\n    </tr>\n    <tr>\n      <th>3</th>\n      <td>A3H99DFEG68SR</td>\n      <td>B007WTAJTO</td>\n      <td>1m2</td>\n      <td>[0, 0]</td>\n      <td>This think has worked out great.Had a diff. br...</td>\n      <td>5.00000</td>\n      <td>Great buy at this price!!!  *** UPDATE</td>\n      <td>1384992000</td>\n      <td>2013-11-21</td>\n      <td>382</td>\n      <td>0</td>\n      <td>0</td>\n      <td>0</td>\n    </tr>\n    <tr>\n      <th>4</th>\n      <td>A375ZM4U047O79</td>\n      <td>B007WTAJTO</td>\n      <td>2&amp;amp;1/2Men</td>\n      <td>[0, 0]</td>\n      <td>Bought it with Retail Packaging, arrived legit...</td>\n      <td>5.00000</td>\n      <td>best deal around</td>\n      <td>1373673600</td>\n      <td>2013-07-13</td>\n      <td>513</td>\n      <td>0</td>\n      <td>0</td>\n      <td>0</td>\n    </tr>\n  </tbody>\n</table>\n</div>"
     },
     "execution_count": 9,
     "metadata": {},
     "output_type": "execute_result"
    }
   ],
   "source": [
    "# Adım 1. helpful_no Değişkenini Üretiniz\n",
    "\n",
    "# Not:\n",
    "# total_vote bir yoruma verilen toplam up-down sayısıdır.\n",
    "# up, helpful demektir.\n",
    "# veri setinde helpful_no değişkeni yoktur, var olan değişkenler üzerinden üretilmesi gerekmektedir.\n",
    "# helpful_no = total_vote - helpful_yes\n",
    "\n",
    "df[\"helpful_no\"] = df[\"total_vote\"] - df[\"helpful_yes\"]\n",
    "df.head()"
   ],
   "metadata": {
    "collapsed": false,
    "ExecuteTime": {
     "end_time": "2024-09-17T19:49:32.523710Z",
     "start_time": "2024-09-17T19:49:32.515522Z"
    }
   },
   "id": "3c87f407ecbdf3a3",
   "execution_count": 9
  },
  {
   "cell_type": "code",
   "outputs": [],
   "source": [
    "# Adım 2. score_pos_neg_diff, score_average_rating ve wilson_lower_bound Skorlarını Hesaplayıp Veriye Ekleyiniz\n",
    "\n",
    "# score_pos_neg_diff\n",
    "def score_pos_neg_diff(up, down):\n",
    "    return up - down\n",
    "\n",
    "# score_average_rating\n",
    "def score_average_rating(up, down):\n",
    "    if up + down == 0:\n",
    "        return 0\n",
    "    return up / (up + down)\n",
    "\n",
    "# wilson_lower_bound\n",
    "def wilson_lower_bound(up, down, confidence=0.95):\n",
    "    \"\"\"\n",
    "    Wilson Lower Bound Score hesapla\n",
    "\n",
    "    - Bernoulli parametresi p için hesaplanacak güven aralığının alt sınırı WLB skoru olarak kabul edilir.\n",
    "    - Hesaplanacak skor ürün sıralaması için kullanılır.\n",
    "    - Not:\n",
    "    Eğer skorlar 1-5 arasıdaysa 1-3 negatif, 4-5 pozitif olarak işaretlenir ve bernoulli'ye uygun hale getirilebilir.\n",
    "    Bu beraberinde bazı problemleri de getirir. Bu sebeple bayesian average rating yapmak gerekir.\n",
    "\n",
    "    Parameters\n",
    "    ----------\n",
    "    up: int\n",
    "        up count\n",
    "    down: int\n",
    "        down count\n",
    "    confidence: float\n",
    "        confidence\n",
    "\n",
    "    Returns\n",
    "    -------\n",
    "    wilson score: float\n",
    "\n",
    "    \"\"\"\n",
    "    n = up + down\n",
    "    if n == 0:\n",
    "        return 0\n",
    "    z = st.norm.ppf(1 - (1 - confidence) / 2)\n",
    "    phat = 1.0 * up / n\n",
    "    return (phat + z * z / (2 * n) - z * math.sqrt((phat * (1 - phat) + z * z / (4 * n)) / n)) / (1 + z * z / n)\n"
   ],
   "metadata": {
    "collapsed": false,
    "ExecuteTime": {
     "end_time": "2024-09-17T19:51:11.587950Z",
     "start_time": "2024-09-17T19:51:11.583088Z"
    }
   },
   "id": "6b7296142f1596a7",
   "execution_count": 11
  },
  {
   "cell_type": "code",
   "outputs": [],
   "source": [
    "# score_pos_neg_diff\n",
    "df[\"score_pos_neg_diff\"] = df.apply(lambda x: score_pos_neg_diff(x[\"helpful_yes\"],x[\"helpful_no\"]), axis=1)\n",
    "\n",
    "# score_average_rating\n",
    "df[\"score_average_rating\"] = df.apply(lambda x: score_average_rating(x[\"helpful_yes\"], x[\"helpful_no\"]), axis=1)\n",
    "\n",
    "# wilson_lower_bound\n",
    "df[\"wilson_lower_bound\"] = df.apply(lambda x: wilson_lower_bound(x[\"helpful_yes\"], x[\"helpful_no\"]), axis=1)\n"
   ],
   "metadata": {
    "collapsed": false,
    "ExecuteTime": {
     "end_time": "2024-09-17T19:51:29.584791Z",
     "start_time": "2024-09-17T19:51:29.499814Z"
    }
   },
   "id": "83dfd3ae9047cc9f",
   "execution_count": 12
  },
  {
   "cell_type": "code",
   "outputs": [
    {
     "data": {
      "text/plain": "          reviewerID        asin                          reviewerName       helpful                                         reviewText  overall                                            summary  unixReviewTime  reviewTime  day_diff  helpful_yes  total_vote  helpful_no  score_pos_neg_diff  score_average_rating  wilson_lower_bound\n2031  A12B7ZMXFI6IXY  B007WTAJTO                  Hyoun Kim \"Faluzure\"  [1952, 2020]  [[ UPDATE - 6/19/2014 ]]So my lovely wife boug...  5.00000  UPDATED - Great w/ Galaxy S4 & Galaxy Tab 4 10...      1367366400  2013-01-05       702         1952        2020          68                1884               0.96634             0.95754\n3449   AOEAD7DPLZE53  B007WTAJTO                     NLee the Engineer  [1428, 1505]  I have tested dozens of SDHC and micro-SDHC ca...  5.00000  Top of the class among all (budget-priced) mic...      1348617600  2012-09-26       803         1428        1505          77                1351               0.94884             0.93652\n4212   AVBMZZAFEKO58  B007WTAJTO                           SkincareCEO  [1568, 1694]  NOTE:  please read the last update (scroll to ...  1.00000  1 Star reviews - Micro SDXC card unmounts itse...      1375660800  2013-05-08       579         1568        1694         126                1442               0.92562             0.91214\n317   A1ZQAQFYSXL5MQ  B007WTAJTO               Amazon Customer \"Kelly\"    [422, 495]  If your card gets hot enough to be painful, it...  1.00000                                Warning, read this!      1346544000  2012-02-09      1033          422         495          73                 349               0.85253             0.81858\n4672  A2DKQQIZ793AV5  B007WTAJTO                               Twister      [45, 49]  Sandisk announcement of the first 128GB micro ...  5.00000  Super high capacity!!!  Excellent price (on Am...      1394150400  2014-07-03       158           45          49           4                  41               0.91837             0.80811\n1835  A1J6VSUM80UAF8  B007WTAJTO                           goconfigure      [60, 68]  Bought from BestBuy online the day it was anno...  5.00000                                           I own it      1393545600  2014-02-28       283           60          68           8                  52               0.88235             0.78465\n3981  A1K91XXQ6ZEBQR  B007WTAJTO            R. Sutton, Jr. \"RWSynergy\"    [112, 139]  The last few days I have been diligently shopp...  5.00000  Resolving confusion between \"Mobile Ultra\" and...      1350864000  2012-10-22       777          112         139          27                  85               0.80576             0.73214\n3807   AFGRMORWY2QNX  B007WTAJTO                            R. Heisler      [22, 25]  I bought this card to replace a lost 16 gig in...  3.00000   Good buy for the money but wait, I had an issue!      1361923200  2013-02-27       649           22          25           3                  19               0.88000             0.70044\n4306   AOHXKM5URSKAB  B007WTAJTO                         Stellar Eller      [51, 65]  While I got this card as a \"deal of the day\" o...  5.00000                                      Awesome Card!      1339200000  2012-09-06       823           51          65          14                  37               0.78462             0.67033\n4596  A1WTQUOQ4WG9AI  B007WTAJTO           Tom Henriksen \"Doggy Diner\"     [82, 109]  Hi:I ordered two card and they arrived the nex...  1.00000     Designed incompatibility/Don't support SanDisk      1348272000  2012-09-22       807           82         109          27                  55               0.75229             0.66359\n315   A2J26NNQX6WKAU  B007WTAJTO            Amazon Customer \"johncrea\"      [38, 48]  Bought this card to use with my Samsung Galaxy...  5.00000  Samsung Galaxy Tab2 works with this card if re...      1344816000  2012-08-13       847           38          48          10                  28               0.79167             0.65741\n1465   A6I8KXYK24RTB  B007WTAJTO                              D. Stein        [7, 7]  I for one have not bought into Google's, or an...  4.00000                                           Finally.      1397433600  2014-04-14       238            7           7           0                   7               1.00000             0.64567\n1609  A2TPXOZSU1DACQ  B007WTAJTO                                Eskimo        [7, 7]  I have always been a sandisk guy.  This cards ...  5.00000                  Bet you wish you had one of these      1395792000  2014-03-26       257            7           7           0                   7               1.00000             0.64567\n4302  A2EL2GWJ9T0DWY  B007WTAJTO                             Stayeraug      [14, 16]  So I got this SD specifically for my GoPro Bla...  5.00000                        Perfect with GoPro Black 3+      1395360000  2014-03-21       262           14          16           2                  12               0.87500             0.63977\n4072  A22GOZTFA02O2F  B007WTAJTO                           sb21 \"sb21\"        [6, 6]  I used this for my Samsung Galaxy Tab 2 7.0 . ...  5.00000               Used for my Samsung Galaxy Tab 2 7.0      1347321600  2012-11-09       759            6           6           0                   6               1.00000             0.60967\n1072  A2O96COBMVY9C4  B007WTAJTO                        Crysis Complex        [5, 5]  What more can I say? The 64GB micro SD works f...  5.00000               Works wonders for the Galaxy Note 2!      1349395200  2012-05-10       942            5           5           0                   5               1.00000             0.56552\n2583  A3MEPYZVTAV90W  B007WTAJTO                               J. Wong        [5, 5]  I bought this Class 10 SD card for my GoPro 3 ...  5.00000                  Works Great with a GoPro 3 Black!      1370649600  2013-08-06       489            5           5           0                   5               1.00000             0.56552\n121   A2Z4VVF1NTJWPB  B007WTAJTO                                A. Lee        [5, 5]  Update: providing an update with regard to San...  5.00000                     ready for use on the Galaxy S3      1346803200  2012-05-09       943            5           5           0                   5               1.00000             0.56552\n1142  A1PLHPPAJ5MUXG  B007WTAJTO  Daniel Pham(Danpham_X @ yahoo.  com)        [5, 5]  As soon as I saw that this card was announced ...  5.00000                          Great large capacity card      1396396800  2014-02-04       307            5           5           0                   5               1.00000             0.56552\n1753   ALPLKR59QMBUX  B007WTAJTO                             G. Becker        [5, 5]  Puchased this card right after I received my S...  5.00000                    Use Nothing Other Than the Best      1350864000  2012-10-22       777            5           5           0                   5               1.00000             0.56552",
      "text/html": "<div>\n<style scoped>\n    .dataframe tbody tr th:only-of-type {\n        vertical-align: middle;\n    }\n\n    .dataframe tbody tr th {\n        vertical-align: top;\n    }\n\n    .dataframe thead th {\n        text-align: right;\n    }\n</style>\n<table border=\"1\" class=\"dataframe\">\n  <thead>\n    <tr style=\"text-align: right;\">\n      <th></th>\n      <th>reviewerID</th>\n      <th>asin</th>\n      <th>reviewerName</th>\n      <th>helpful</th>\n      <th>reviewText</th>\n      <th>overall</th>\n      <th>summary</th>\n      <th>unixReviewTime</th>\n      <th>reviewTime</th>\n      <th>day_diff</th>\n      <th>helpful_yes</th>\n      <th>total_vote</th>\n      <th>helpful_no</th>\n      <th>score_pos_neg_diff</th>\n      <th>score_average_rating</th>\n      <th>wilson_lower_bound</th>\n    </tr>\n  </thead>\n  <tbody>\n    <tr>\n      <th>2031</th>\n      <td>A12B7ZMXFI6IXY</td>\n      <td>B007WTAJTO</td>\n      <td>Hyoun Kim \"Faluzure\"</td>\n      <td>[1952, 2020]</td>\n      <td>[[ UPDATE - 6/19/2014 ]]So my lovely wife boug...</td>\n      <td>5.00000</td>\n      <td>UPDATED - Great w/ Galaxy S4 &amp; Galaxy Tab 4 10...</td>\n      <td>1367366400</td>\n      <td>2013-01-05</td>\n      <td>702</td>\n      <td>1952</td>\n      <td>2020</td>\n      <td>68</td>\n      <td>1884</td>\n      <td>0.96634</td>\n      <td>0.95754</td>\n    </tr>\n    <tr>\n      <th>3449</th>\n      <td>AOEAD7DPLZE53</td>\n      <td>B007WTAJTO</td>\n      <td>NLee the Engineer</td>\n      <td>[1428, 1505]</td>\n      <td>I have tested dozens of SDHC and micro-SDHC ca...</td>\n      <td>5.00000</td>\n      <td>Top of the class among all (budget-priced) mic...</td>\n      <td>1348617600</td>\n      <td>2012-09-26</td>\n      <td>803</td>\n      <td>1428</td>\n      <td>1505</td>\n      <td>77</td>\n      <td>1351</td>\n      <td>0.94884</td>\n      <td>0.93652</td>\n    </tr>\n    <tr>\n      <th>4212</th>\n      <td>AVBMZZAFEKO58</td>\n      <td>B007WTAJTO</td>\n      <td>SkincareCEO</td>\n      <td>[1568, 1694]</td>\n      <td>NOTE:  please read the last update (scroll to ...</td>\n      <td>1.00000</td>\n      <td>1 Star reviews - Micro SDXC card unmounts itse...</td>\n      <td>1375660800</td>\n      <td>2013-05-08</td>\n      <td>579</td>\n      <td>1568</td>\n      <td>1694</td>\n      <td>126</td>\n      <td>1442</td>\n      <td>0.92562</td>\n      <td>0.91214</td>\n    </tr>\n    <tr>\n      <th>317</th>\n      <td>A1ZQAQFYSXL5MQ</td>\n      <td>B007WTAJTO</td>\n      <td>Amazon Customer \"Kelly\"</td>\n      <td>[422, 495]</td>\n      <td>If your card gets hot enough to be painful, it...</td>\n      <td>1.00000</td>\n      <td>Warning, read this!</td>\n      <td>1346544000</td>\n      <td>2012-02-09</td>\n      <td>1033</td>\n      <td>422</td>\n      <td>495</td>\n      <td>73</td>\n      <td>349</td>\n      <td>0.85253</td>\n      <td>0.81858</td>\n    </tr>\n    <tr>\n      <th>4672</th>\n      <td>A2DKQQIZ793AV5</td>\n      <td>B007WTAJTO</td>\n      <td>Twister</td>\n      <td>[45, 49]</td>\n      <td>Sandisk announcement of the first 128GB micro ...</td>\n      <td>5.00000</td>\n      <td>Super high capacity!!!  Excellent price (on Am...</td>\n      <td>1394150400</td>\n      <td>2014-07-03</td>\n      <td>158</td>\n      <td>45</td>\n      <td>49</td>\n      <td>4</td>\n      <td>41</td>\n      <td>0.91837</td>\n      <td>0.80811</td>\n    </tr>\n    <tr>\n      <th>1835</th>\n      <td>A1J6VSUM80UAF8</td>\n      <td>B007WTAJTO</td>\n      <td>goconfigure</td>\n      <td>[60, 68]</td>\n      <td>Bought from BestBuy online the day it was anno...</td>\n      <td>5.00000</td>\n      <td>I own it</td>\n      <td>1393545600</td>\n      <td>2014-02-28</td>\n      <td>283</td>\n      <td>60</td>\n      <td>68</td>\n      <td>8</td>\n      <td>52</td>\n      <td>0.88235</td>\n      <td>0.78465</td>\n    </tr>\n    <tr>\n      <th>3981</th>\n      <td>A1K91XXQ6ZEBQR</td>\n      <td>B007WTAJTO</td>\n      <td>R. Sutton, Jr. \"RWSynergy\"</td>\n      <td>[112, 139]</td>\n      <td>The last few days I have been diligently shopp...</td>\n      <td>5.00000</td>\n      <td>Resolving confusion between \"Mobile Ultra\" and...</td>\n      <td>1350864000</td>\n      <td>2012-10-22</td>\n      <td>777</td>\n      <td>112</td>\n      <td>139</td>\n      <td>27</td>\n      <td>85</td>\n      <td>0.80576</td>\n      <td>0.73214</td>\n    </tr>\n    <tr>\n      <th>3807</th>\n      <td>AFGRMORWY2QNX</td>\n      <td>B007WTAJTO</td>\n      <td>R. Heisler</td>\n      <td>[22, 25]</td>\n      <td>I bought this card to replace a lost 16 gig in...</td>\n      <td>3.00000</td>\n      <td>Good buy for the money but wait, I had an issue!</td>\n      <td>1361923200</td>\n      <td>2013-02-27</td>\n      <td>649</td>\n      <td>22</td>\n      <td>25</td>\n      <td>3</td>\n      <td>19</td>\n      <td>0.88000</td>\n      <td>0.70044</td>\n    </tr>\n    <tr>\n      <th>4306</th>\n      <td>AOHXKM5URSKAB</td>\n      <td>B007WTAJTO</td>\n      <td>Stellar Eller</td>\n      <td>[51, 65]</td>\n      <td>While I got this card as a \"deal of the day\" o...</td>\n      <td>5.00000</td>\n      <td>Awesome Card!</td>\n      <td>1339200000</td>\n      <td>2012-09-06</td>\n      <td>823</td>\n      <td>51</td>\n      <td>65</td>\n      <td>14</td>\n      <td>37</td>\n      <td>0.78462</td>\n      <td>0.67033</td>\n    </tr>\n    <tr>\n      <th>4596</th>\n      <td>A1WTQUOQ4WG9AI</td>\n      <td>B007WTAJTO</td>\n      <td>Tom Henriksen \"Doggy Diner\"</td>\n      <td>[82, 109]</td>\n      <td>Hi:I ordered two card and they arrived the nex...</td>\n      <td>1.00000</td>\n      <td>Designed incompatibility/Don't support SanDisk</td>\n      <td>1348272000</td>\n      <td>2012-09-22</td>\n      <td>807</td>\n      <td>82</td>\n      <td>109</td>\n      <td>27</td>\n      <td>55</td>\n      <td>0.75229</td>\n      <td>0.66359</td>\n    </tr>\n    <tr>\n      <th>315</th>\n      <td>A2J26NNQX6WKAU</td>\n      <td>B007WTAJTO</td>\n      <td>Amazon Customer \"johncrea\"</td>\n      <td>[38, 48]</td>\n      <td>Bought this card to use with my Samsung Galaxy...</td>\n      <td>5.00000</td>\n      <td>Samsung Galaxy Tab2 works with this card if re...</td>\n      <td>1344816000</td>\n      <td>2012-08-13</td>\n      <td>847</td>\n      <td>38</td>\n      <td>48</td>\n      <td>10</td>\n      <td>28</td>\n      <td>0.79167</td>\n      <td>0.65741</td>\n    </tr>\n    <tr>\n      <th>1465</th>\n      <td>A6I8KXYK24RTB</td>\n      <td>B007WTAJTO</td>\n      <td>D. Stein</td>\n      <td>[7, 7]</td>\n      <td>I for one have not bought into Google's, or an...</td>\n      <td>4.00000</td>\n      <td>Finally.</td>\n      <td>1397433600</td>\n      <td>2014-04-14</td>\n      <td>238</td>\n      <td>7</td>\n      <td>7</td>\n      <td>0</td>\n      <td>7</td>\n      <td>1.00000</td>\n      <td>0.64567</td>\n    </tr>\n    <tr>\n      <th>1609</th>\n      <td>A2TPXOZSU1DACQ</td>\n      <td>B007WTAJTO</td>\n      <td>Eskimo</td>\n      <td>[7, 7]</td>\n      <td>I have always been a sandisk guy.  This cards ...</td>\n      <td>5.00000</td>\n      <td>Bet you wish you had one of these</td>\n      <td>1395792000</td>\n      <td>2014-03-26</td>\n      <td>257</td>\n      <td>7</td>\n      <td>7</td>\n      <td>0</td>\n      <td>7</td>\n      <td>1.00000</td>\n      <td>0.64567</td>\n    </tr>\n    <tr>\n      <th>4302</th>\n      <td>A2EL2GWJ9T0DWY</td>\n      <td>B007WTAJTO</td>\n      <td>Stayeraug</td>\n      <td>[14, 16]</td>\n      <td>So I got this SD specifically for my GoPro Bla...</td>\n      <td>5.00000</td>\n      <td>Perfect with GoPro Black 3+</td>\n      <td>1395360000</td>\n      <td>2014-03-21</td>\n      <td>262</td>\n      <td>14</td>\n      <td>16</td>\n      <td>2</td>\n      <td>12</td>\n      <td>0.87500</td>\n      <td>0.63977</td>\n    </tr>\n    <tr>\n      <th>4072</th>\n      <td>A22GOZTFA02O2F</td>\n      <td>B007WTAJTO</td>\n      <td>sb21 \"sb21\"</td>\n      <td>[6, 6]</td>\n      <td>I used this for my Samsung Galaxy Tab 2 7.0 . ...</td>\n      <td>5.00000</td>\n      <td>Used for my Samsung Galaxy Tab 2 7.0</td>\n      <td>1347321600</td>\n      <td>2012-11-09</td>\n      <td>759</td>\n      <td>6</td>\n      <td>6</td>\n      <td>0</td>\n      <td>6</td>\n      <td>1.00000</td>\n      <td>0.60967</td>\n    </tr>\n    <tr>\n      <th>1072</th>\n      <td>A2O96COBMVY9C4</td>\n      <td>B007WTAJTO</td>\n      <td>Crysis Complex</td>\n      <td>[5, 5]</td>\n      <td>What more can I say? The 64GB micro SD works f...</td>\n      <td>5.00000</td>\n      <td>Works wonders for the Galaxy Note 2!</td>\n      <td>1349395200</td>\n      <td>2012-05-10</td>\n      <td>942</td>\n      <td>5</td>\n      <td>5</td>\n      <td>0</td>\n      <td>5</td>\n      <td>1.00000</td>\n      <td>0.56552</td>\n    </tr>\n    <tr>\n      <th>2583</th>\n      <td>A3MEPYZVTAV90W</td>\n      <td>B007WTAJTO</td>\n      <td>J. Wong</td>\n      <td>[5, 5]</td>\n      <td>I bought this Class 10 SD card for my GoPro 3 ...</td>\n      <td>5.00000</td>\n      <td>Works Great with a GoPro 3 Black!</td>\n      <td>1370649600</td>\n      <td>2013-08-06</td>\n      <td>489</td>\n      <td>5</td>\n      <td>5</td>\n      <td>0</td>\n      <td>5</td>\n      <td>1.00000</td>\n      <td>0.56552</td>\n    </tr>\n    <tr>\n      <th>121</th>\n      <td>A2Z4VVF1NTJWPB</td>\n      <td>B007WTAJTO</td>\n      <td>A. Lee</td>\n      <td>[5, 5]</td>\n      <td>Update: providing an update with regard to San...</td>\n      <td>5.00000</td>\n      <td>ready for use on the Galaxy S3</td>\n      <td>1346803200</td>\n      <td>2012-05-09</td>\n      <td>943</td>\n      <td>5</td>\n      <td>5</td>\n      <td>0</td>\n      <td>5</td>\n      <td>1.00000</td>\n      <td>0.56552</td>\n    </tr>\n    <tr>\n      <th>1142</th>\n      <td>A1PLHPPAJ5MUXG</td>\n      <td>B007WTAJTO</td>\n      <td>Daniel Pham(Danpham_X @ yahoo.  com)</td>\n      <td>[5, 5]</td>\n      <td>As soon as I saw that this card was announced ...</td>\n      <td>5.00000</td>\n      <td>Great large capacity card</td>\n      <td>1396396800</td>\n      <td>2014-02-04</td>\n      <td>307</td>\n      <td>5</td>\n      <td>5</td>\n      <td>0</td>\n      <td>5</td>\n      <td>1.00000</td>\n      <td>0.56552</td>\n    </tr>\n    <tr>\n      <th>1753</th>\n      <td>ALPLKR59QMBUX</td>\n      <td>B007WTAJTO</td>\n      <td>G. Becker</td>\n      <td>[5, 5]</td>\n      <td>Puchased this card right after I received my S...</td>\n      <td>5.00000</td>\n      <td>Use Nothing Other Than the Best</td>\n      <td>1350864000</td>\n      <td>2012-10-22</td>\n      <td>777</td>\n      <td>5</td>\n      <td>5</td>\n      <td>0</td>\n      <td>5</td>\n      <td>1.00000</td>\n      <td>0.56552</td>\n    </tr>\n  </tbody>\n</table>\n</div>"
     },
     "execution_count": 13,
     "metadata": {},
     "output_type": "execute_result"
    }
   ],
   "source": [
    "# Adım 3. 20 Yorumu Belirleyiniz ve Sonuçları Yorumlayınız.\n",
    "df.sort_values(\"wilson_lower_bound\", ascending=False).head(20)\n"
   ],
   "metadata": {
    "collapsed": false,
    "ExecuteTime": {
     "end_time": "2024-09-17T19:51:48.051049Z",
     "start_time": "2024-09-17T19:51:48.040042Z"
    }
   },
   "id": "5d6b1ba1fc179471",
   "execution_count": 13
  }
 ],
 "metadata": {
  "kernelspec": {
   "display_name": "Python 3",
   "language": "python",
   "name": "python3"
  },
  "language_info": {
   "codemirror_mode": {
    "name": "ipython",
    "version": 2
   },
   "file_extension": ".py",
   "mimetype": "text/x-python",
   "name": "python",
   "nbconvert_exporter": "python",
   "pygments_lexer": "ipython2",
   "version": "2.7.6"
  }
 },
 "nbformat": 4,
 "nbformat_minor": 5
}
